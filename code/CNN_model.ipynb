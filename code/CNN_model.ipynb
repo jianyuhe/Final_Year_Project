{
 "cells": [
  {
   "cell_type": "code",
   "execution_count": 1,
   "metadata": {},
   "outputs": [
    {
     "name": "stderr",
     "output_type": "stream",
     "text": [
      "Using TensorFlow backend.\n"
     ]
    }
   ],
   "source": [
    "import numpy\n",
    "import os\n",
    "from keras import applications\n",
    "from keras.preprocessing.image import ImageDataGenerator\n",
    "from keras import optimizers\n",
    "from keras.models import Sequential, Model\n",
    "from keras.layers import Dropout, Flatten, Dense, GlobalAveragePooling2D\n",
    "from keras import backend as k\n",
    "from keras.callbacks import ModelCheckpoint, LearningRateScheduler, TensorBoard, EarlyStopping"
   ]
  },
  {
   "cell_type": "code",
   "execution_count": 2,
   "metadata": {},
   "outputs": [
    {
     "name": "stdout",
     "output_type": "stream",
     "text": [
      "129 86\n"
     ]
    }
   ],
   "source": [
    "# Load Test and Train Files¶\n",
    "\n",
    "files_train = 0\n",
    "files_validation = 0\n",
    "\n",
    "cwd = os.getcwd()\n",
    "folder = 'cnnmodel/train'\n",
    "for sub_folder in os.listdir(folder):\n",
    "    path, dirs, files = next(os.walk(os.path.join(folder,sub_folder)))\n",
    "    files_train += len(files)\n",
    "\n",
    "\n",
    "folder = 'cnnmodel/test'\n",
    "for sub_folder in os.listdir(folder):\n",
    "    path, dirs, files = next(os.walk(os.path.join(folder,sub_folder)))\n",
    "    files_validation += len(files)\n",
    "\n",
    "print(files_train,files_validation)"
   ]
  },
  {
   "cell_type": "code",
   "execution_count": 3,
   "metadata": {},
   "outputs": [],
   "source": [
    "#Set key parameters\n",
    "img_width, img_height = 48, 144\n",
    "train_data_dir = \"cnnmodel/train\"\n",
    "validation_data_dir = \"cnnmodel/test\"\n",
    "nb_train_samples = files_train\n",
    "nb_validation_samples = files_validation\n",
    "batch_size = 32\n",
    "epochs = 70\n",
    "num_classes = 2"
   ]
  },
  {
   "cell_type": "code",
   "execution_count": 4,
   "metadata": {},
   "outputs": [
    {
     "name": "stdout",
     "output_type": "stream",
     "text": [
      "WARNING:tensorflow:From D:\\Anaconda3\\lib\\site-packages\\keras\\backend\\tensorflow_backend.py:4070: The name tf.nn.max_pool is deprecated. Please use tf.nn.max_pool2d instead.\n",
      "\n"
     ]
    }
   ],
   "source": [
    "#Build model on top of a trained VGG\n",
    "model = applications.VGG16(weights = \"imagenet\", include_top=False, input_shape = (img_width, img_height, 3))\n",
    "# Freeze the layers which you don't want to train. Here I am freezing the first 5 layers.\n",
    "for layer in model.layers[:10]:\n",
    "    layer.trainable = False"
   ]
  },
  {
   "cell_type": "code",
   "execution_count": 5,
   "metadata": {},
   "outputs": [
    {
     "name": "stderr",
     "output_type": "stream",
     "text": [
      "D:\\Anaconda3\\lib\\site-packages\\ipykernel_launcher.py:7: UserWarning: Update your `Model` call to the Keras 2 API: `Model(inputs=Tensor(\"in..., outputs=Tensor(\"de...)`\n",
      "  import sys\n"
     ]
    }
   ],
   "source": [
    "x = model.output\n",
    "x = Flatten()(x)\n",
    "\n",
    "predictions = Dense(num_classes, activation=\"softmax\")(x)\n",
    "\n",
    "# creating the final model\n",
    "model_final = Model(input = model.input, output = predictions)\n",
    "\n",
    "# compile the model\n",
    "model_final.compile(loss = \"categorical_crossentropy\", \n",
    "                    optimizer = optimizers.SGD(lr=0.0001, momentum=0.9), \n",
    "                    metrics=[\"accuracy\"]) # See learning rate is very low"
   ]
  },
  {
   "cell_type": "code",
   "execution_count": 6,
   "metadata": {},
   "outputs": [
    {
     "name": "stdout",
     "output_type": "stream",
     "text": [
      "Found 129 images belonging to 2 classes.\n",
      "Found 86 images belonging to 2 classes.\n"
     ]
    }
   ],
   "source": [
    "# Initiate the train and test generators with data Augumentation\n",
    "train_datagen = ImageDataGenerator(\n",
    "rescale = 1./255,\n",
    "horizontal_flip = True,\n",
    "fill_mode = \"nearest\",\n",
    "zoom_range = 0.1,\n",
    "width_shift_range = 0.1,\n",
    "height_shift_range=0.1,\n",
    "rotation_range=5)\n",
    "\n",
    "test_datagen = ImageDataGenerator(\n",
    "rescale = 1./255,\n",
    "horizontal_flip = True,\n",
    "fill_mode = \"nearest\",\n",
    "zoom_range = 0.1,\n",
    "width_shift_range = 0.1,\n",
    "height_shift_range=0.1,\n",
    "rotation_range=5)\n",
    "\n",
    "train_generator = train_datagen.flow_from_directory(\n",
    "train_data_dir,\n",
    "target_size = (img_width,img_height),\n",
    "batch_size = batch_size,\n",
    "class_mode = \"categorical\")\n",
    "\n",
    "validation_generator = test_datagen.flow_from_directory(\n",
    "validation_data_dir,\n",
    "target_size = (img_width, img_height),\n",
    "class_mode = \"categorical\")"
   ]
  },
  {
   "cell_type": "code",
   "execution_count": 7,
   "metadata": {},
   "outputs": [],
   "source": [
    "# Save the model according to the conditions\n",
    "checkpoint = ModelCheckpoint(\"car.h5\", monitor='val_accuracy', verbose=1, save_best_only=True, save_weights_only=False, \n",
    "                             mode='auto', period=1)\n",
    "early = EarlyStopping(monitor='val_accuracy', min_delta=0, patience=10, verbose=1, mode='auto')\n"
   ]
  },
  {
   "cell_type": "code",
   "execution_count": 8,
   "metadata": {},
   "outputs": [
    {
     "name": "stderr",
     "output_type": "stream",
     "text": [
      "D:\\Anaconda3\\lib\\site-packages\\ipykernel_launcher.py:9: UserWarning: The semantics of the Keras 2 argument `steps_per_epoch` is not the same as the Keras 1 argument `samples_per_epoch`. `steps_per_epoch` is the number of batches to draw from the generator at each epoch. Basically steps_per_epoch = samples_per_epoch/batch_size. Similarly `nb_val_samples`->`validation_steps` and `val_samples`->`steps` arguments have changed. Update your method calls accordingly.\n",
      "  if __name__ == '__main__':\n",
      "D:\\Anaconda3\\lib\\site-packages\\ipykernel_launcher.py:9: UserWarning: Update your `fit_generator` call to the Keras 2 API: `fit_generator(<keras.pre..., epochs=70, validation_data=<keras.pre..., callbacks=[<keras.ca..., steps_per_epoch=4, validation_steps=86)`\n",
      "  if __name__ == '__main__':\n"
     ]
    },
    {
     "name": "stdout",
     "output_type": "stream",
     "text": [
      "WARNING:tensorflow:From D:\\Anaconda3\\lib\\site-packages\\keras\\backend\\tensorflow_backend.py:422: The name tf.global_variables is deprecated. Please use tf.compat.v1.global_variables instead.\n",
      "\n",
      "Epoch 1/70\n",
      "4/4 [==============================] - 14s 3s/step - loss: 0.6592 - accuracy: 0.6094 - val_loss: 0.6512 - val_accuracy: 0.5858\n",
      "\n",
      "Epoch 00001: val_accuracy improved from -inf to 0.58576, saving model to car.h5\n",
      "Epoch 2/70\n",
      "4/4 [==============================] - 10s 3s/step - loss: 0.5485 - accuracy: 0.6598 - val_loss: 0.6155 - val_accuracy: 0.6946\n",
      "\n",
      "Epoch 00002: val_accuracy improved from 0.58576 to 0.69456, saving model to car.h5\n",
      "Epoch 3/70\n",
      "4/4 [==============================] - 9s 2s/step - loss: 0.5203 - accuracy: 0.8041 - val_loss: 0.5028 - val_accuracy: 0.7575\n",
      "\n",
      "Epoch 00003: val_accuracy improved from 0.69456 to 0.75751, saving model to car.h5\n",
      "Epoch 4/70\n",
      "4/4 [==============================] - 9s 2s/step - loss: 0.5659 - accuracy: 0.8144 - val_loss: 0.4588 - val_accuracy: 0.7249\n",
      "\n",
      "Epoch 00004: val_accuracy did not improve from 0.75751\n",
      "Epoch 5/70\n",
      "4/4 [==============================] - 9s 2s/step - loss: 0.5219 - accuracy: 0.8247 - val_loss: 0.4220 - val_accuracy: 0.8599\n",
      "\n",
      "Epoch 00005: val_accuracy improved from 0.75751 to 0.85987, saving model to car.h5\n",
      "Epoch 6/70\n",
      "4/4 [==============================] - 9s 2s/step - loss: 0.3684 - accuracy: 0.8557 - val_loss: 0.3030 - val_accuracy: 0.8863\n",
      "\n",
      "Epoch 00006: val_accuracy improved from 0.85987 to 0.88627, saving model to car.h5\n",
      "Epoch 7/70\n",
      "4/4 [==============================] - 10s 3s/step - loss: 0.3400 - accuracy: 0.8969 - val_loss: 0.2988 - val_accuracy: 0.8928\n",
      "\n",
      "Epoch 00007: val_accuracy improved from 0.88627 to 0.89280, saving model to car.h5\n",
      "Epoch 8/70\n",
      "4/4 [==============================] - 9s 2s/step - loss: 0.4069 - accuracy: 0.8359 - val_loss: 0.2364 - val_accuracy: 0.8936\n",
      "\n",
      "Epoch 00008: val_accuracy improved from 0.89280 to 0.89358, saving model to car.h5\n",
      "Epoch 9/70\n",
      "4/4 [==============================] - 9s 2s/step - loss: 0.2722 - accuracy: 0.9485 - val_loss: 0.2912 - val_accuracy: 0.8623\n",
      "\n",
      "Epoch 00009: val_accuracy did not improve from 0.89358\n",
      "Epoch 10/70\n",
      "4/4 [==============================] - 9s 2s/step - loss: 0.2567 - accuracy: 0.8969 - val_loss: 0.3825 - val_accuracy: 0.8402\n",
      "\n",
      "Epoch 00010: val_accuracy did not improve from 0.89358\n",
      "Epoch 11/70\n",
      "4/4 [==============================] - 9s 2s/step - loss: 0.2823 - accuracy: 0.9072 - val_loss: 0.3482 - val_accuracy: 0.8993\n",
      "\n",
      "Epoch 00011: val_accuracy improved from 0.89358 to 0.89927, saving model to car.h5\n",
      "Epoch 12/70\n",
      "4/4 [==============================] - 10s 2s/step - loss: 0.1853 - accuracy: 0.9485 - val_loss: 0.2338 - val_accuracy: 0.9115\n",
      "\n",
      "Epoch 00012: val_accuracy improved from 0.89927 to 0.91145, saving model to car.h5\n",
      "Epoch 13/70\n",
      "4/4 [==============================] - 9s 2s/step - loss: 0.2178 - accuracy: 0.9297 - val_loss: 0.2494 - val_accuracy: 0.9146\n",
      "\n",
      "Epoch 00013: val_accuracy improved from 0.91145 to 0.91464, saving model to car.h5\n",
      "Epoch 14/70\n",
      "4/4 [==============================] - 10s 2s/step - loss: 0.2409 - accuracy: 0.9278 - val_loss: 0.1759 - val_accuracy: 0.9119\n",
      "\n",
      "Epoch 00014: val_accuracy did not improve from 0.91464\n",
      "Epoch 15/70\n",
      "4/4 [==============================] - 10s 2s/step - loss: 0.2098 - accuracy: 0.9278 - val_loss: 0.2588 - val_accuracy: 0.9115\n",
      "\n",
      "Epoch 00015: val_accuracy did not improve from 0.91464\n",
      "Epoch 16/70\n",
      "4/4 [==============================] - 9s 2s/step - loss: 0.1913 - accuracy: 0.9278 - val_loss: 0.3093 - val_accuracy: 0.9183\n",
      "\n",
      "Epoch 00016: val_accuracy improved from 0.91464 to 0.91828, saving model to car.h5\n",
      "Epoch 17/70\n",
      "4/4 [==============================] - 10s 2s/step - loss: 0.2154 - accuracy: 0.9691 - val_loss: 0.2380 - val_accuracy: 0.9228\n",
      "\n",
      "Epoch 00017: val_accuracy improved from 0.91828 to 0.92283, saving model to car.h5\n",
      "Epoch 18/70\n",
      "4/4 [==============================] - 9s 2s/step - loss: 0.2050 - accuracy: 0.9278 - val_loss: 0.1482 - val_accuracy: 0.9236\n",
      "\n",
      "Epoch 00018: val_accuracy improved from 0.92283 to 0.92364, saving model to car.h5\n",
      "Epoch 19/70\n",
      "4/4 [==============================] - 10s 2s/step - loss: 0.1965 - accuracy: 0.8969 - val_loss: 0.1431 - val_accuracy: 0.9235\n",
      "\n",
      "Epoch 00019: val_accuracy did not improve from 0.92364\n",
      "Epoch 20/70\n",
      "4/4 [==============================] - 9s 2s/step - loss: 0.1599 - accuracy: 0.9375 - val_loss: 0.1324 - val_accuracy: 0.9444\n",
      "\n",
      "Epoch 00020: val_accuracy improved from 0.92364 to 0.94435, saving model to car.h5\n",
      "Epoch 21/70\n",
      "4/4 [==============================] - 9s 2s/step - loss: 0.1500 - accuracy: 0.9381 - val_loss: 0.2706 - val_accuracy: 0.9285\n",
      "\n",
      "Epoch 00021: val_accuracy did not improve from 0.94435\n",
      "Epoch 22/70\n",
      "4/4 [==============================] - 10s 2s/step - loss: 0.1846 - accuracy: 0.9278 - val_loss: 0.2087 - val_accuracy: 0.9446\n",
      "\n",
      "Epoch 00022: val_accuracy improved from 0.94435 to 0.94458, saving model to car.h5\n",
      "Epoch 23/70\n",
      "4/4 [==============================] - 9s 2s/step - loss: 0.1156 - accuracy: 0.9691 - val_loss: 0.1299 - val_accuracy: 0.9525\n",
      "\n",
      "Epoch 00023: val_accuracy improved from 0.94458 to 0.95248, saving model to car.h5\n",
      "Epoch 24/70\n",
      "4/4 [==============================] - 9s 2s/step - loss: 0.1310 - accuracy: 0.9531 - val_loss: 0.1172 - val_accuracy: 0.9509\n",
      "\n",
      "Epoch 00024: val_accuracy did not improve from 0.95248\n",
      "Epoch 25/70\n",
      "4/4 [==============================] - 9s 2s/step - loss: 0.0794 - accuracy: 0.9588 - val_loss: 0.0960 - val_accuracy: 0.9474\n",
      "\n",
      "Epoch 00025: val_accuracy did not improve from 0.95248\n",
      "Epoch 26/70\n",
      "4/4 [==============================] - 10s 2s/step - loss: 0.1141 - accuracy: 0.9381 - val_loss: 0.1644 - val_accuracy: 0.9464\n",
      "\n",
      "Epoch 00026: val_accuracy did not improve from 0.95248\n",
      "Epoch 27/70\n",
      "4/4 [==============================] - 9s 2s/step - loss: 0.0686 - accuracy: 0.9691 - val_loss: 0.0675 - val_accuracy: 0.9468\n",
      "\n",
      "Epoch 00027: val_accuracy did not improve from 0.95248\n",
      "Epoch 28/70\n",
      "4/4 [==============================] - 10s 2s/step - loss: 0.1128 - accuracy: 0.9609 - val_loss: 0.0816 - val_accuracy: 0.9527\n",
      "\n",
      "Epoch 00028: val_accuracy improved from 0.95248 to 0.95267, saving model to car.h5\n",
      "Epoch 29/70\n",
      "4/4 [==============================] - 9s 2s/step - loss: 0.1029 - accuracy: 0.9588 - val_loss: 0.1015 - val_accuracy: 0.9504\n",
      "\n",
      "Epoch 00029: val_accuracy did not improve from 0.95267\n",
      "Epoch 30/70\n",
      "4/4 [==============================] - 9s 2s/step - loss: 0.0931 - accuracy: 0.9485 - val_loss: 0.0889 - val_accuracy: 0.9569\n",
      "\n",
      "Epoch 00030: val_accuracy improved from 0.95267 to 0.95695, saving model to car.h5\n",
      "Epoch 31/70\n",
      "4/4 [==============================] - 9s 2s/step - loss: 0.0887 - accuracy: 0.9588 - val_loss: 0.0621 - val_accuracy: 0.9563\n",
      "\n",
      "Epoch 00031: val_accuracy did not improve from 0.95695\n",
      "Epoch 32/70\n",
      "4/4 [==============================] - 9s 2s/step - loss: 0.0781 - accuracy: 0.9691 - val_loss: 0.1413 - val_accuracy: 0.9590\n",
      "\n",
      "Epoch 00032: val_accuracy improved from 0.95695 to 0.95898, saving model to car.h5\n",
      "Epoch 33/70\n",
      "4/4 [==============================] - 9s 2s/step - loss: 0.0847 - accuracy: 0.9485 - val_loss: 0.0986 - val_accuracy: 0.9574\n",
      "\n",
      "Epoch 00033: val_accuracy did not improve from 0.95898\n",
      "Epoch 34/70\n",
      "4/4 [==============================] - 9s 2s/step - loss: 0.0829 - accuracy: 0.9485 - val_loss: 0.2199 - val_accuracy: 0.9587\n",
      "\n",
      "Epoch 00034: val_accuracy did not improve from 0.95898\n",
      "Epoch 35/70\n",
      "4/4 [==============================] - 9s 2s/step - loss: 0.0856 - accuracy: 0.9609 - val_loss: 0.0885 - val_accuracy: 0.9708\n",
      "\n",
      "Epoch 00035: val_accuracy improved from 0.95898 to 0.97076, saving model to car.h5\n",
      "Epoch 36/70\n",
      "4/4 [==============================] - 9s 2s/step - loss: 0.0662 - accuracy: 0.9922 - val_loss: 0.0757 - val_accuracy: 0.9643\n",
      "\n",
      "Epoch 00036: val_accuracy did not improve from 0.97076\n",
      "Epoch 37/70\n",
      "4/4 [==============================] - 9s 2s/step - loss: 0.1911 - accuracy: 0.9848 - val_loss: 0.2385 - val_accuracy: 0.9486\n",
      "\n",
      "Epoch 00037: val_accuracy did not improve from 0.97076\n",
      "Epoch 38/70\n",
      "4/4 [==============================] - 10s 2s/step - loss: 0.1433 - accuracy: 0.9609 - val_loss: 0.3297 - val_accuracy: 0.9578\n",
      "\n",
      "Epoch 00038: val_accuracy did not improve from 0.97076\n",
      "Epoch 39/70\n"
     ]
    },
    {
     "name": "stdout",
     "output_type": "stream",
     "text": [
      "4/4 [==============================] - 9s 2s/step - loss: 0.0897 - accuracy: 0.9545 - val_loss: 0.1422 - val_accuracy: 0.9622\n",
      "\n",
      "Epoch 00039: val_accuracy did not improve from 0.97076\n",
      "Epoch 40/70\n",
      "4/4 [==============================] - 10s 2s/step - loss: 0.0846 - accuracy: 0.9609 - val_loss: 0.0976 - val_accuracy: 0.9624\n",
      "\n",
      "Epoch 00040: val_accuracy did not improve from 0.97076\n",
      "Epoch 41/70\n",
      "4/4 [==============================] - 9s 2s/step - loss: 0.0869 - accuracy: 0.9588 - val_loss: 0.0712 - val_accuracy: 0.9618\n",
      "\n",
      "Epoch 00041: val_accuracy did not improve from 0.97076\n",
      "Epoch 42/70\n",
      "4/4 [==============================] - 10s 2s/step - loss: 0.0922 - accuracy: 0.9588 - val_loss: 0.0613 - val_accuracy: 0.9647\n",
      "\n",
      "Epoch 00042: val_accuracy did not improve from 0.97076\n",
      "Epoch 43/70\n",
      "4/4 [==============================] - 9s 2s/step - loss: 0.0540 - accuracy: 0.9922 - val_loss: 0.2016 - val_accuracy: 0.9693\n",
      "\n",
      "Epoch 00043: val_accuracy did not improve from 0.97076\n",
      "Epoch 44/70\n",
      "4/4 [==============================] - 10s 2s/step - loss: 0.0847 - accuracy: 0.9485 - val_loss: 0.0899 - val_accuracy: 0.9679\n",
      "\n",
      "Epoch 00044: val_accuracy did not improve from 0.97076\n",
      "Epoch 45/70\n",
      "4/4 [==============================] - 9s 2s/step - loss: 0.1411 - accuracy: 0.9691 - val_loss: 0.0643 - val_accuracy: 0.9752\n",
      "\n",
      "Epoch 00045: val_accuracy improved from 0.97076 to 0.97522, saving model to car.h5\n",
      "Epoch 46/70\n",
      "4/4 [==============================] - 9s 2s/step - loss: 0.0673 - accuracy: 0.9588 - val_loss: 0.0480 - val_accuracy: 0.9798\n",
      "\n",
      "Epoch 00046: val_accuracy improved from 0.97522 to 0.97977, saving model to car.h5\n",
      "Epoch 47/70\n",
      "4/4 [==============================] - 10s 3s/step - loss: 0.0731 - accuracy: 0.9766 - val_loss: 0.0239 - val_accuracy: 0.9752\n",
      "\n",
      "Epoch 00047: val_accuracy did not improve from 0.97977\n",
      "Epoch 48/70\n",
      "4/4 [==============================] - 9s 2s/step - loss: 0.0894 - accuracy: 0.9794 - val_loss: 0.1950 - val_accuracy: 0.9525\n",
      "\n",
      "Epoch 00048: val_accuracy did not improve from 0.97977\n",
      "Epoch 49/70\n",
      "4/4 [==============================] - 10s 2s/step - loss: 0.0987 - accuracy: 0.9545 - val_loss: 0.1914 - val_accuracy: 0.9381\n",
      "\n",
      "Epoch 00049: val_accuracy did not improve from 0.97977\n",
      "Epoch 50/70\n",
      "4/4 [==============================] - 9s 2s/step - loss: 0.1078 - accuracy: 0.9688 - val_loss: 0.0418 - val_accuracy: 0.9659\n",
      "\n",
      "Epoch 00050: val_accuracy did not improve from 0.97977\n",
      "Epoch 51/70\n",
      "4/4 [==============================] - 9s 2s/step - loss: 0.0557 - accuracy: 0.9794 - val_loss: 0.0370 - val_accuracy: 0.9850\n",
      "\n",
      "Epoch 00051: val_accuracy improved from 0.97977 to 0.98497, saving model to car.h5\n",
      "Epoch 52/70\n",
      "4/4 [==============================] - 10s 2s/step - loss: 0.0307 - accuracy: 1.0000 - val_loss: 0.0413 - val_accuracy: 0.9858\n",
      "\n",
      "Epoch 00052: val_accuracy improved from 0.98497 to 0.98584, saving model to car.h5\n",
      "Epoch 53/70\n",
      "4/4 [==============================] - 9s 2s/step - loss: 0.0549 - accuracy: 0.9922 - val_loss: 0.0447 - val_accuracy: 0.9829\n",
      "\n",
      "Epoch 00053: val_accuracy did not improve from 0.98584\n",
      "Epoch 54/70\n",
      "4/4 [==============================] - 10s 2s/step - loss: 0.0389 - accuracy: 0.9697 - val_loss: 0.0193 - val_accuracy: 0.9858\n",
      "\n",
      "Epoch 00054: val_accuracy did not improve from 0.98584\n",
      "Epoch 55/70\n",
      "4/4 [==============================] - 9s 2s/step - loss: 0.0332 - accuracy: 0.9922 - val_loss: 0.0341 - val_accuracy: 0.9814\n",
      "\n",
      "Epoch 00055: val_accuracy did not improve from 0.98584\n",
      "Epoch 56/70\n",
      "4/4 [==============================] - 9s 2s/step - loss: 0.0490 - accuracy: 0.9794 - val_loss: 0.1060 - val_accuracy: 0.9829\n",
      "\n",
      "Epoch 00056: val_accuracy did not improve from 0.98584\n",
      "Epoch 57/70\n",
      "4/4 [==============================] - 9s 2s/step - loss: 0.0245 - accuracy: 1.0000 - val_loss: 0.0343 - val_accuracy: 0.9817\n",
      "\n",
      "Epoch 00057: val_accuracy did not improve from 0.98584\n",
      "Epoch 58/70\n",
      "4/4 [==============================] - 10s 2s/step - loss: 0.0463 - accuracy: 0.9848 - val_loss: 0.0996 - val_accuracy: 0.9786\n",
      "\n",
      "Epoch 00058: val_accuracy did not improve from 0.98584\n",
      "Epoch 59/70\n",
      "4/4 [==============================] - 9s 2s/step - loss: 0.0294 - accuracy: 1.0000 - val_loss: 0.0672 - val_accuracy: 0.9789\n",
      "\n",
      "Epoch 00059: val_accuracy did not improve from 0.98584\n",
      "Epoch 60/70\n",
      "4/4 [==============================] - 9s 2s/step - loss: 0.0285 - accuracy: 1.0000 - val_loss: 0.0813 - val_accuracy: 0.9842\n",
      "\n",
      "Epoch 00060: val_accuracy did not improve from 0.98584\n",
      "Epoch 61/70\n",
      "4/4 [==============================] - 9s 2s/step - loss: 0.0203 - accuracy: 1.0000 - val_loss: 0.0433 - val_accuracy: 0.9871\n",
      "\n",
      "Epoch 00061: val_accuracy improved from 0.98584 to 0.98706, saving model to car.h5\n",
      "Epoch 62/70\n",
      "4/4 [==============================] - 9s 2s/step - loss: 0.0332 - accuracy: 0.9922 - val_loss: 0.0512 - val_accuracy: 0.9898\n",
      "\n",
      "Epoch 00062: val_accuracy improved from 0.98706 to 0.98985, saving model to car.h5\n",
      "Epoch 63/70\n",
      "4/4 [==============================] - 10s 2s/step - loss: 0.0174 - accuracy: 1.0000 - val_loss: 0.0210 - val_accuracy: 0.9898\n",
      "\n",
      "Epoch 00063: val_accuracy did not improve from 0.98985\n",
      "Epoch 64/70\n",
      "4/4 [==============================] - 9s 2s/step - loss: 0.0300 - accuracy: 1.0000 - val_loss: 0.0096 - val_accuracy: 0.9931\n",
      "\n",
      "Epoch 00064: val_accuracy improved from 0.98985 to 0.99312, saving model to car.h5\n",
      "Epoch 65/70\n",
      "4/4 [==============================] - 9s 2s/step - loss: 0.0232 - accuracy: 1.0000 - val_loss: 0.0210 - val_accuracy: 0.9911\n",
      "\n",
      "Epoch 00065: val_accuracy did not improve from 0.99312\n",
      "Epoch 66/70\n",
      "4/4 [==============================] - 10s 2s/step - loss: 0.0246 - accuracy: 1.0000 - val_loss: 0.0142 - val_accuracy: 0.9894\n",
      "\n",
      "Epoch 00066: val_accuracy did not improve from 0.99312\n",
      "Epoch 67/70\n",
      "4/4 [==============================] - 10s 2s/step - loss: 0.0302 - accuracy: 0.9897 - val_loss: 0.0146 - val_accuracy: 0.9903\n",
      "\n",
      "Epoch 00067: val_accuracy did not improve from 0.99312\n",
      "Epoch 68/70\n",
      "4/4 [==============================] - 10s 2s/step - loss: 0.0180 - accuracy: 1.0000 - val_loss: 0.0390 - val_accuracy: 0.9907\n",
      "\n",
      "Epoch 00068: val_accuracy did not improve from 0.99312\n",
      "Epoch 69/70\n",
      "4/4 [==============================] - 9s 2s/step - loss: 0.0195 - accuracy: 1.0000 - val_loss: 0.0189 - val_accuracy: 0.9907\n",
      "\n",
      "Epoch 00069: val_accuracy did not improve from 0.99312\n",
      "Epoch 70/70\n",
      "4/4 [==============================] - 10s 2s/step - loss: 0.0236 - accuracy: 0.9922 - val_loss: 0.0395 - val_accuracy: 0.9903\n",
      "\n",
      "Epoch 00070: val_accuracy did not improve from 0.99312\n"
     ]
    }
   ],
   "source": [
    "# Start training!\n",
    "\n",
    "history_object = model_final.fit_generator(\n",
    "train_generator,\n",
    "samples_per_epoch = nb_train_samples,\n",
    "epochs = epochs,\n",
    "validation_data = validation_generator,\n",
    "nb_val_samples = nb_validation_samples,\n",
    "callbacks = [checkpoint, early])"
   ]
  },
  {
   "cell_type": "code",
   "execution_count": 11,
   "metadata": {},
   "outputs": [
    {
     "name": "stdout",
     "output_type": "stream",
     "text": [
      "dict_keys(['val_loss', 'val_accuracy', 'loss', 'accuracy'])\n"
     ]
    },
    {
     "data": {
      "image/png": "[encoded data removed]",
      "text/plain": [
       "<Figure size 432x288 with 1 Axes>"
      ]
     },
     "metadata": {
      "needs_background": "light"
     },
     "output_type": "display_data"
    }
   ],
   "source": [
    "import matplotlib.pyplot as plt\n",
    "print(history_object.history.keys())\n",
    "plt.plot(history_object.history['accuracy'])\n",
    "plt.plot(history_object.history['val_accuracy'])\n",
    "plt.title('model accuracy')\n",
    "plt.ylabel('accuracy')\n",
    "plt.xlabel('epoch')\n",
    "plt.legend(['train', 'test'], loc='upper left')\n",
    "plt.show()"
   ]
  },
  {
   "cell_type": "code",
   "execution_count": 12,
   "metadata": {},
   "outputs": [
    {
     "data": {
      "image/png": "[encoded data removed]",
      "text/plain": [
       "<Figure size 432x288 with 1 Axes>"
      ]
     },
     "metadata": {
      "needs_background": "light"
     },
     "output_type": "display_data"
    }
   ],
   "source": [
    "plt.plot(history_object.history['loss'])\n",
    "plt.plot(history_object.history['val_loss'])\n",
    "plt.title('model loss')\n",
    "plt.ylabel('loss')\n",
    "plt.xlabel('epoch')\n",
    "plt.legend(['train', 'test'], loc='upper left')\n",
    "plt.show()"
   ]
  },
  {
   "cell_type": "code",
   "execution_count": null,
   "metadata": {},
   "outputs": [],
   "source": []
  },
  {
   "cell_type": "code",
   "execution_count": null,
   "metadata": {},
   "outputs": [],
   "source": []
  }
 ],
 "metadata": {
  "kernelspec": {
   "display_name": "Python 3",
   "language": "python",
   "name": "python3"
  },
  "language_info": {
   "codemirror_mode": {
    "name": "ipython",
    "version": 3
   },
   "file_extension": ".py",
   "mimetype": "text/x-python",
   "name": "python",
   "nbconvert_exporter": "python",
   "pygments_lexer": "ipython3",
   "version": "3.7.4"
  }
 },
 "nbformat": 4,
 "nbformat_minor": 2
}
