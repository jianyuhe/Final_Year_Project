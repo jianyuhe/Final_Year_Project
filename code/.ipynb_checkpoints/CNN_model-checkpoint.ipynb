{
 "cells": [
  {
   "cell_type": "code",
   "execution_count": 1,
   "metadata": {},
   "outputs": [
    {
     "name": "stderr",
     "output_type": "stream",
     "text": [
      "Using TensorFlow backend.\n"
     ]
    }
   ],
   "source": [
    "import numpy\n",
    "import os\n",
    "from keras import applications\n",
    "from keras.preprocessing.image import ImageDataGenerator\n",
    "from keras import optimizers\n",
    "from keras.models import Sequential, Model\n",
    "from keras.layers import Dropout, Flatten, Dense, GlobalAveragePooling2D\n",
    "from keras import backend as k\n",
    "from keras.callbacks import ModelCheckpoint, LearningRateScheduler, TensorBoard, EarlyStopping"
   ]
  },
  {
   "cell_type": "code",
   "execution_count": 2,
   "metadata": {},
   "outputs": [
    {
     "name": "stdout",
     "output_type": "stream",
     "text": [
      "129 86\n"
     ]
    }
   ],
   "source": [
    "# Load Test and Train Files¶\n",
    "\n",
    "files_train = 0\n",
    "files_validation = 0\n",
    "\n",
    "cwd = os.getcwd()\n",
    "folder = 'cnnmodel/train'\n",
    "for sub_folder in os.listdir(folder):\n",
    "    path, dirs, files = next(os.walk(os.path.join(folder,sub_folder)))\n",
    "    files_train += len(files)\n",
    "\n",
    "\n",
    "folder = 'cnnmodel/test'\n",
    "for sub_folder in os.listdir(folder):\n",
    "    path, dirs, files = next(os.walk(os.path.join(folder,sub_folder)))\n",
    "    files_validation += len(files)\n",
    "\n",
    "print(files_train,files_validation)"
   ]
  },
  {
   "cell_type": "code",
   "execution_count": 3,
   "metadata": {},
   "outputs": [],
   "source": [
    "#Set key parameters\n",
    "img_width, img_height = 48, 144\n",
    "train_data_dir = \"cnnmodel/train\"\n",
    "validation_data_dir = \"cnnmodel/test\"\n",
    "nb_train_samples = files_train\n",
    "nb_validation_samples = files_validation\n",
    "batch_size = 32\n",
    "epochs = 40\n",
    "num_classes = 2"
   ]
  },
  {
   "cell_type": "code",
   "execution_count": 4,
   "metadata": {},
   "outputs": [
    {
     "name": "stdout",
     "output_type": "stream",
     "text": [
      "WARNING:tensorflow:From D:\\Anaconda3\\lib\\site-packages\\keras\\backend\\tensorflow_backend.py:4070: The name tf.nn.max_pool is deprecated. Please use tf.nn.max_pool2d instead.\n",
      "\n"
     ]
    }
   ],
   "source": [
    "#Build model on top of a trained VGG\n",
    "model = applications.VGG16(weights = \"imagenet\", include_top=False, input_shape = (img_width, img_height, 3))\n",
    "# Freeze the layers which you don't want to train. Here I am freezing the first 5 layers.\n",
    "for layer in model.layers[:10]:\n",
    "    layer.trainable = False"
   ]
  },
  {
   "cell_type": "code",
   "execution_count": 5,
   "metadata": {},
   "outputs": [
    {
     "name": "stderr",
     "output_type": "stream",
     "text": [
      "D:\\Anaconda3\\lib\\site-packages\\ipykernel_launcher.py:10: UserWarning: Update your `Model` call to the Keras 2 API: `Model(inputs=Tensor(\"in..., outputs=Tensor(\"de...)`\n",
      "  # Remove the CWD from sys.path while we load stuff.\n"
     ]
    }
   ],
   "source": [
    "x = model.output\n",
    "x = Flatten()(x)\n",
    "\n",
    "predictions = Dense(num_classes, activation=\"softmax\")(x)\n",
    "\n",
    "# creating the final model\n",
    "model_final = Model(input = model.input, output = predictions)\n",
    "\n",
    "# compile the model\n",
    "model_final.compile(loss = \"categorical_crossentropy\", \n",
    "                    optimizer = optimizers.SGD(lr=0.0001, momentum=0.9), \n",
    "                    metrics=[\"accuracy\"]) # See learning rate is very low"
   ]
  },
  {
   "cell_type": "code",
   "execution_count": 6,
   "metadata": {},
   "outputs": [
    {
     "name": "stdout",
     "output_type": "stream",
     "text": [
      "Found 129 images belonging to 2 classes.\n",
      "Found 86 images belonging to 2 classes.\n"
     ]
    }
   ],
   "source": [
    "# Initiate the train and test generators with data Augumentation\n",
    "train_datagen = ImageDataGenerator(\n",
    "rescale = 1./255,\n",
    "horizontal_flip = True,\n",
    "fill_mode = \"nearest\",\n",
    "zoom_range = 0.1,\n",
    "width_shift_range = 0.1,\n",
    "height_shift_range=0.1,\n",
    "rotation_range=5)\n",
    "\n",
    "test_datagen = ImageDataGenerator(\n",
    "rescale = 1./255,\n",
    "horizontal_flip = True,\n",
    "fill_mode = \"nearest\",\n",
    "zoom_range = 0.1,\n",
    "width_shift_range = 0.1,\n",
    "height_shift_range=0.1,\n",
    "rotation_range=5)\n",
    "\n",
    "train_generator = train_datagen.flow_from_directory(\n",
    "train_data_dir,\n",
    "target_size = (img_width,img_height),\n",
    "batch_size = batch_size,\n",
    "class_mode = \"categorical\")\n",
    "\n",
    "validation_generator = test_datagen.flow_from_directory(\n",
    "validation_data_dir,\n",
    "target_size = (img_width, img_height),\n",
    "class_mode = \"categorical\")"
   ]
  },
  {
   "cell_type": "code",
   "execution_count": 7,
   "metadata": {},
   "outputs": [],
   "source": [
    "# Save the model according to the conditions\n",
    "checkpoint = ModelCheckpoint(\"car.h5\", monitor='val_accuracy', verbose=1, save_best_only=True, save_weights_only=False, mode='auto', period=1)\n",
    "early = EarlyStopping(monitor='val_accuracy', min_delta=0, patience=10, verbose=1, mode='auto')\n"
   ]
  },
  {
   "cell_type": "code",
   "execution_count": 8,
   "metadata": {},
   "outputs": [
    {
     "name": "stderr",
     "output_type": "stream",
     "text": [
      "D:\\Anaconda3\\lib\\site-packages\\ipykernel_launcher.py:9: UserWarning: The semantics of the Keras 2 argument `steps_per_epoch` is not the same as the Keras 1 argument `samples_per_epoch`. `steps_per_epoch` is the number of batches to draw from the generator at each epoch. Basically steps_per_epoch = samples_per_epoch/batch_size. Similarly `nb_val_samples`->`validation_steps` and `val_samples`->`steps` arguments have changed. Update your method calls accordingly.\n",
      "  if __name__ == '__main__':\n",
      "D:\\Anaconda3\\lib\\site-packages\\ipykernel_launcher.py:9: UserWarning: Update your `fit_generator` call to the Keras 2 API: `fit_generator(<keras.pre..., epochs=40, validation_data=<keras.pre..., callbacks=[<keras.ca..., steps_per_epoch=4, validation_steps=86)`\n",
      "  if __name__ == '__main__':\n"
     ]
    },
    {
     "name": "stdout",
     "output_type": "stream",
     "text": [
      "WARNING:tensorflow:From D:\\Anaconda3\\lib\\site-packages\\keras\\backend\\tensorflow_backend.py:422: The name tf.global_variables is deprecated. Please use tf.compat.v1.global_variables instead.\n",
      "\n",
      "Epoch 1/40\n",
      "4/4 [==============================] - 14s 3s/step - loss: 0.8113 - accuracy: 0.5876 - val_loss: 0.4802 - val_accuracy: 0.8556\n",
      "\n",
      "Epoch 00001: val_accuracy improved from -inf to 0.85558, saving model to car.h5\n",
      "Epoch 2/40\n",
      "4/4 [==============================] - 10s 2s/step - loss: 0.6568 - accuracy: 0.6082 - val_loss: 0.7259 - val_accuracy: 0.5032\n",
      "\n",
      "Epoch 00002: val_accuracy did not improve from 0.85558\n",
      "Epoch 3/40\n",
      "4/4 [==============================] - 9s 2s/step - loss: 0.6068 - accuracy: 0.6562 - val_loss: 0.6190 - val_accuracy: 0.5406\n",
      "\n",
      "Epoch 00003: val_accuracy did not improve from 0.85558\n",
      "Epoch 4/40\n",
      "4/4 [==============================] - 10s 2s/step - loss: 0.5587 - accuracy: 0.7526 - val_loss: 0.4269 - val_accuracy: 0.8920\n",
      "\n",
      "Epoch 00004: val_accuracy improved from 0.85558 to 0.89199, saving model to car.h5\n",
      "Epoch 5/40\n",
      "4/4 [==============================] - 10s 2s/step - loss: 0.3612 - accuracy: 0.8969 - val_loss: 0.2615 - val_accuracy: 0.9119\n",
      "\n",
      "Epoch 00005: val_accuracy improved from 0.89199 to 0.91186, saving model to car.h5\n",
      "Epoch 6/40\n",
      "4/4 [==============================] - 9s 2s/step - loss: 0.4014 - accuracy: 0.7526 - val_loss: 0.2338 - val_accuracy: 0.8981\n",
      "\n",
      "Epoch 00006: val_accuracy did not improve from 0.91186\n",
      "Epoch 7/40\n",
      "4/4 [==============================] - 10s 2s/step - loss: 0.4027 - accuracy: 0.8351 - val_loss: 0.2682 - val_accuracy: 0.9122\n",
      "\n",
      "Epoch 00007: val_accuracy improved from 0.91186 to 0.91222, saving model to car.h5\n",
      "Epoch 8/40\n",
      "4/4 [==============================] - 10s 2s/step - loss: 0.3601 - accuracy: 0.8660 - val_loss: 0.2819 - val_accuracy: 0.9175\n",
      "\n",
      "Epoch 00008: val_accuracy improved from 0.91222 to 0.91755, saving model to car.h5\n",
      "Epoch 9/40\n",
      "4/4 [==============================] - 9s 2s/step - loss: 0.3136 - accuracy: 0.9219 - val_loss: 0.2880 - val_accuracy: 0.8562\n",
      "\n",
      "Epoch 00009: val_accuracy did not improve from 0.91755\n",
      "Epoch 10/40\n",
      "4/4 [==============================] - 10s 2s/step - loss: 0.3150 - accuracy: 0.9072 - val_loss: 0.3485 - val_accuracy: 0.8843\n",
      "\n",
      "Epoch 00010: val_accuracy did not improve from 0.91755\n",
      "Epoch 11/40\n",
      "4/4 [==============================] - 9s 2s/step - loss: 0.2673 - accuracy: 0.9062 - val_loss: 0.2522 - val_accuracy: 0.9188\n",
      "\n",
      "Epoch 00011: val_accuracy improved from 0.91755 to 0.91877, saving model to car.h5\n",
      "Epoch 12/40\n",
      "4/4 [==============================] - 10s 2s/step - loss: 0.3478 - accuracy: 0.9278 - val_loss: 0.1819 - val_accuracy: 0.9171\n",
      "\n",
      "Epoch 00012: val_accuracy did not improve from 0.91877\n",
      "Epoch 13/40\n",
      "4/4 [==============================] - 10s 3s/step - loss: 0.1743 - accuracy: 0.9278 - val_loss: 0.3311 - val_accuracy: 0.9163\n",
      "\n",
      "Epoch 00013: val_accuracy did not improve from 0.91877\n",
      "Epoch 14/40\n",
      "4/4 [==============================] - 10s 2s/step - loss: 0.2139 - accuracy: 0.9175 - val_loss: 0.2124 - val_accuracy: 0.9127\n",
      "\n",
      "Epoch 00014: val_accuracy did not improve from 0.91877\n",
      "Epoch 15/40\n",
      "4/4 [==============================] - 9s 2s/step - loss: 0.1656 - accuracy: 0.9381 - val_loss: 0.1465 - val_accuracy: 0.9204\n",
      "\n",
      "Epoch 00015: val_accuracy improved from 0.91877 to 0.92039, saving model to car.h5\n",
      "Epoch 16/40\n",
      "4/4 [==============================] - 10s 2s/step - loss: 0.5560 - accuracy: 0.9381 - val_loss: 0.2913 - val_accuracy: 0.8467\n",
      "\n",
      "Epoch 00016: val_accuracy did not improve from 0.92039\n",
      "Epoch 17/40\n",
      "4/4 [==============================] - 9s 2s/step - loss: 0.3432 - accuracy: 0.8906 - val_loss: 0.3412 - val_accuracy: 0.8335\n",
      "\n",
      "Epoch 00017: val_accuracy did not improve from 0.92039\n",
      "Epoch 18/40\n",
      "4/4 [==============================] - 10s 2s/step - loss: 0.2257 - accuracy: 0.9278 - val_loss: 0.1768 - val_accuracy: 0.9289\n",
      "\n",
      "Epoch 00018: val_accuracy improved from 0.92039 to 0.92892, saving model to car.h5\n",
      "Epoch 19/40\n",
      "4/4 [==============================] - 10s 2s/step - loss: 0.1281 - accuracy: 0.9485 - val_loss: 0.1172 - val_accuracy: 0.9434\n",
      "\n",
      "Epoch 00019: val_accuracy improved from 0.92892 to 0.94337, saving model to car.h5\n",
      "Epoch 20/40\n",
      "4/4 [==============================] - 10s 3s/step - loss: 0.1731 - accuracy: 0.8969 - val_loss: 0.1809 - val_accuracy: 0.9427\n",
      "\n",
      "Epoch 00020: val_accuracy did not improve from 0.94337\n",
      "Epoch 21/40\n",
      "4/4 [==============================] - 9s 2s/step - loss: 0.1658 - accuracy: 0.8969 - val_loss: 0.0928 - val_accuracy: 0.9533\n",
      "\n",
      "Epoch 00021: val_accuracy improved from 0.94337 to 0.95329, saving model to car.h5\n",
      "Epoch 22/40\n",
      "4/4 [==============================] - 9s 2s/step - loss: 0.1630 - accuracy: 0.9297 - val_loss: 0.0903 - val_accuracy: 0.9422\n",
      "\n",
      "Epoch 00022: val_accuracy did not improve from 0.95329\n",
      "Epoch 23/40\n",
      "4/4 [==============================] - 10s 2s/step - loss: 0.1755 - accuracy: 0.9485 - val_loss: 0.1923 - val_accuracy: 0.9293\n",
      "\n",
      "Epoch 00023: val_accuracy did not improve from 0.95329\n",
      "Epoch 24/40\n",
      "4/4 [==============================] - 10s 2s/step - loss: 0.0967 - accuracy: 0.9545 - val_loss: 0.3520 - val_accuracy: 0.9232\n",
      "\n",
      "Epoch 00024: val_accuracy did not improve from 0.95329\n",
      "Epoch 25/40\n",
      "4/4 [==============================] - 10s 3s/step - loss: 0.1747 - accuracy: 0.9609 - val_loss: 0.2406 - val_accuracy: 0.9308\n",
      "\n",
      "Epoch 00025: val_accuracy did not improve from 0.95329\n",
      "Epoch 26/40\n",
      "4/4 [==============================] - 10s 2s/step - loss: 0.1598 - accuracy: 0.9453 - val_loss: 0.2286 - val_accuracy: 0.9444\n",
      "\n",
      "Epoch 00026: val_accuracy did not improve from 0.95329\n",
      "Epoch 27/40\n",
      "4/4 [==============================] - 10s 2s/step - loss: 0.0709 - accuracy: 0.9697 - val_loss: 0.0904 - val_accuracy: 0.9578\n",
      "\n",
      "Epoch 00027: val_accuracy improved from 0.95329 to 0.95776, saving model to car.h5\n",
      "Epoch 28/40\n",
      "4/4 [==============================] - 9s 2s/step - loss: 0.1040 - accuracy: 0.9278 - val_loss: 0.0835 - val_accuracy: 0.9616\n",
      "\n",
      "Epoch 00028: val_accuracy improved from 0.95776 to 0.96157, saving model to car.h5\n",
      "Epoch 29/40\n",
      "4/4 [==============================] - 10s 3s/step - loss: 0.1312 - accuracy: 0.9609 - val_loss: 0.1175 - val_accuracy: 0.9630\n",
      "\n",
      "Epoch 00029: val_accuracy improved from 0.96157 to 0.96304, saving model to car.h5\n",
      "Epoch 30/40\n",
      "4/4 [==============================] - 10s 2s/step - loss: 0.0955 - accuracy: 0.9588 - val_loss: 0.0750 - val_accuracy: 0.9488\n",
      "\n",
      "Epoch 00030: val_accuracy did not improve from 0.96304\n",
      "Epoch 31/40\n",
      "4/4 [==============================] - 10s 2s/step - loss: 0.1093 - accuracy: 0.9688 - val_loss: 0.1187 - val_accuracy: 0.9454\n",
      "\n",
      "Epoch 00031: val_accuracy did not improve from 0.96304\n",
      "Epoch 32/40\n",
      "4/4 [==============================] - 9s 2s/step - loss: 0.0648 - accuracy: 0.9697 - val_loss: 0.1206 - val_accuracy: 0.9533\n",
      "\n",
      "Epoch 00032: val_accuracy did not improve from 0.96304\n",
      "Epoch 33/40\n",
      "4/4 [==============================] - 9s 2s/step - loss: 0.1220 - accuracy: 0.9609 - val_loss: 0.0647 - val_accuracy: 0.9630\n",
      "\n",
      "Epoch 00033: val_accuracy did not improve from 0.96304\n",
      "Epoch 34/40\n",
      "4/4 [==============================] - 10s 2s/step - loss: 0.1014 - accuracy: 0.9485 - val_loss: 0.0396 - val_accuracy: 0.9693\n",
      "\n",
      "Epoch 00034: val_accuracy improved from 0.96304 to 0.96926, saving model to car.h5\n",
      "Epoch 35/40\n",
      "4/4 [==============================] - 9s 2s/step - loss: 0.0706 - accuracy: 0.9691 - val_loss: 0.1210 - val_accuracy: 0.9622\n",
      "\n",
      "Epoch 00035: val_accuracy did not improve from 0.96926\n",
      "Epoch 36/40\n",
      "4/4 [==============================] - 9s 2s/step - loss: 0.0922 - accuracy: 0.9588 - val_loss: 0.1822 - val_accuracy: 0.9610\n",
      "\n",
      "Epoch 00036: val_accuracy did not improve from 0.96926\n",
      "Epoch 37/40\n",
      "4/4 [==============================] - 9s 2s/step - loss: 0.0755 - accuracy: 0.9844 - val_loss: 0.0226 - val_accuracy: 0.9612\n",
      "\n",
      "Epoch 00037: val_accuracy did not improve from 0.96926\n",
      "Epoch 38/40\n",
      "4/4 [==============================] - 10s 2s/step - loss: 0.0758 - accuracy: 0.9691 - val_loss: 0.0899 - val_accuracy: 0.9659\n",
      "\n",
      "Epoch 00038: val_accuracy did not improve from 0.96926\n",
      "Epoch 39/40\n",
      "4/4 [==============================] - 9s 2s/step - loss: 0.0730 - accuracy: 0.9794 - val_loss: 0.0441 - val_accuracy: 0.9740\n",
      "\n",
      "Epoch 00039: val_accuracy improved from 0.96926 to 0.97400, saving model to car.h5\n",
      "Epoch 40/40\n"
     ]
    },
    {
     "name": "stdout",
     "output_type": "stream",
     "text": [
      "4/4 [==============================] - 10s 2s/step - loss: 0.0492 - accuracy: 0.9691 - val_loss: 0.0618 - val_accuracy: 0.9689\n",
      "\n",
      "Epoch 00040: val_accuracy did not improve from 0.97400\n"
     ]
    }
   ],
   "source": [
    "# Start training!\n",
    "\n",
    "history_object = model_final.fit_generator(\n",
    "train_generator,\n",
    "samples_per_epoch = nb_train_samples,\n",
    "epochs = epochs,\n",
    "validation_data = validation_generator,\n",
    "nb_val_samples = nb_validation_samples,\n",
    "callbacks = [checkpoint, early])"
   ]
  },
  {
   "cell_type": "code",
   "execution_count": 9,
   "metadata": {},
   "outputs": [
    {
     "name": "stdout",
     "output_type": "stream",
     "text": [
      "dict_keys(['val_loss', 'val_accuracy', 'loss', 'accuracy'])\n"
     ]
    },
    {
     "data": {
      "text/plain": [
       "<Figure size 640x480 with 1 Axes>"
      ]
     },
     "metadata": {},
     "output_type": "display_data"
    }
   ],
   "source": []
  },
  {
   "cell_type": "code",
   "execution_count": 10,
   "metadata": {},
   "outputs": [
    {
     "data": {
      "image/png": "[encoded data removed]",
      "text/plain": [
       "<Figure size 432x288 with 1 Axes>"
      ]
     },
     "metadata": {
      "needs_background": "light"
     },
     "output_type": "display_data"
    }
   ],
   "source": [
    "plt.plot(history_object.history['loss'])\n",
    "plt.plot(history_object.history['val_loss'])\n",
    "plt.title('model loss')\n",
    "plt.ylabel('loss')\n",
    "plt.xlabel('epoch')\n",
    "plt.legend(['train', 'test'], loc='upper left')\n",
    "plt.show()"
   ]
  },
  {
   "cell_type": "code",
   "execution_count": null,
   "metadata": {},
   "outputs": [],
   "source": []
  },
  {
   "cell_type": "code",
   "execution_count": null,
   "metadata": {},
   "outputs": [],
   "source": []
  }
 ],
 "metadata": {
  "kernelspec": {
   "display_name": "Python 3",
   "language": "python",
   "name": "python3"
  },
  "language_info": {
   "codemirror_mode": {
    "name": "ipython",
    "version": 3
   },
   "file_extension": ".py",
   "mimetype": "text/x-python",
   "name": "python",
   "nbconvert_exporter": "python",
   "pygments_lexer": "ipython3",
   "version": "3.7.4"
  }
 },
 "nbformat": 4,
 "nbformat_minor": 2
}
